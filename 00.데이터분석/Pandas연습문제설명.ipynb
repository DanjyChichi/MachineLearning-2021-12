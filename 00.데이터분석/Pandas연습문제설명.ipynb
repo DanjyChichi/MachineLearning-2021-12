{
 "cells": [
  {
   "cell_type": "markdown",
   "metadata": {},
   "source": [
    "# 함수\n",
    "def get_newstats:\n",
    "    이상치 np.nan\n",
    "    mean std"
   ]
  },
  {
   "cell_type": "markdown",
   "metadata": {},
   "source": [
    "for 품종\n",
    "    for 피쳐\n",
    "        get_newstat()\n",
    "        "
   ]
  },
  {
   "cell_type": "markdown",
   "metadata": {},
   "source": [
    "#### 타이타닉\n",
    "sns.load_dataset('titanic')"
   ]
  },
  {
   "cell_type": "markdown",
   "metadata": {},
   "source": [
    "남1 1\n",
    "남2 0\n",
    "남3 1\n",
    "남4 0\n",
    "여1 1\n",
    "여2 2\n",
    "여3 0\n",
    "groupby('sex').[survived필드인덱스].mean() survived 필드의 평균을 구하면 이게 생존률\n",
    "\n",
    "d, e 는 하지말고 abc만 하기"
   ]
  }
 ],
 "metadata": {
  "language_info": {
   "name": "python"
  },
  "orig_nbformat": 4
 },
 "nbformat": 4,
 "nbformat_minor": 2
}
